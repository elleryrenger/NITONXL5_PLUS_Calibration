{
 "cells": [
  {
   "cell_type": "markdown",
   "id": "284d5e51-1e1e-4f12-9f77-0a9b71c128bf",
   "metadata": {
    "tags": []
   },
   "source": [
    "* * *\n",
    "* * * \n",
    "<h1 align=\"center\">Calibration scheme for Niton XL5 Plus pXRF; following repair of CPU in November, 2022</h1>\n",
    "\n",
    "* * * \n",
    "* * *\n",
    "\n",
    "<center><b> Eliel Anttila</b>\n",
    "\n",
    "<center><i>UC Santa Barbara\n",
    "\n",
    "<center>eanttila@ucsb.edu\n",
    "\n",
    "* * * "
   ]
  },
  {
   "cell_type": "code",
   "execution_count": 4,
   "id": "7eadbe5c-7a7c-48b0-90c6-ca4a97fbcd36",
   "metadata": {},
   "outputs": [
    {
     "ename": "ModuleNotFoundError",
     "evalue": "No module named 'matplotlib'",
     "output_type": "error",
     "traceback": [
      "\u001b[1;31m---------------------------------------------------------------------------\u001b[0m",
      "\u001b[1;31mModuleNotFoundError\u001b[0m                       Traceback (most recent call last)",
      "Cell \u001b[1;32mIn[4], line 3\u001b[0m\n\u001b[0;32m      1\u001b[0m \u001b[38;5;66;03m##Import necessary libraries\u001b[39;00m\n\u001b[0;32m      2\u001b[0m \u001b[38;5;66;03m#import numpy as np\u001b[39;00m\n\u001b[1;32m----> 3\u001b[0m \u001b[38;5;28;01mimport\u001b[39;00m \u001b[38;5;21;01mmatplotlib\u001b[39;00m\u001b[38;5;21;01m.\u001b[39;00m\u001b[38;5;21;01mpyplot\u001b[39;00m \u001b[38;5;28;01mas\u001b[39;00m \u001b[38;5;21;01mplt\u001b[39;00m\n\u001b[0;32m      4\u001b[0m \u001b[38;5;28;01mimport\u001b[39;00m \u001b[38;5;21;01mplotly\u001b[39;00m\u001b[38;5;21;01m.\u001b[39;00m\u001b[38;5;21;01mexpress\u001b[39;00m \u001b[38;5;28;01mas\u001b[39;00m \u001b[38;5;21;01mpx\u001b[39;00m\n\u001b[0;32m      5\u001b[0m \u001b[38;5;28;01mimport\u001b[39;00m \u001b[38;5;21;01mjson\u001b[39;00m\n",
      "\u001b[1;31mModuleNotFoundError\u001b[0m: No module named 'matplotlib'"
     ]
    }
   ],
   "source": [
    "\n",
    "\n",
    "##Import necessary libraries\n",
    "#import numpy as np\n",
    "import matplotlib.pyplot as plt\n",
    "import plotly.express as px\n",
    "import json\n",
    "import requests\n",
    "import pandas as pd\n",
    "import seaborn as sbn\n",
    "from scipy import stats\n",
    "from sklearn.linear_model import LinearRegression\n",
    "import statistics\n",
    "import os\n",
    "\n",
    "#Thanks to E. Knappe for help with loops!"
   ]
  },
  {
   "cell_type": "markdown",
   "id": "077adb03-5484-40e9-8ce6-7f1bfdb579e9",
   "metadata": {},
   "source": [
    "* * * \n",
    "<h2><i> Import .csv summarizing the known elemental abundances of USGS shale standards. </h2>\n",
    "\n",
    "<h2 align=\"center\"> Standards are as follows: </h2>\n",
    "   \n",
    "    \n",
    "    \n",
    "\n",
    "| Standard      | Reference |\n",
    "| ----------- | ----------- |\n",
    "| MAG1     | Gladney, 1980       |\n",
    "| SCO1   | Gladney,1980|\n",
    "| SDC1  | Gladney, 1980|\n",
    "| SDARL2   | Potts and Webb, 2020   |\n",
    "| SDARM2  | Potts and Webb, 2020    |\n",
    "| BHVO1   | Gladney,1980|\n",
    "| RGM1  | Gladney, 1980|\n",
    "| QLO1A   | Gladney,1980|\n",
    "\n",
    "    \n",
    "\n",
    "    \n",
    "\n",
    "    \n",
    " <center><i>.pdf's of references can be found in /INPUT_CSV directory.   \n"
   ]
  },
  {
   "cell_type": "code",
   "execution_count": null,
   "id": "ec789b49-f246-42c9-b82a-25d54db69486",
   "metadata": {},
   "outputs": [],
   "source": [
    "# Import standard data\n",
    "USGS=pd.read_csv('INPUT_CSV/Standard Data/USGS_STAND.csv').fillna(0) "
   ]
  },
  {
   "cell_type": "markdown",
   "id": "f22197be-9f52-4f3c-a4fc-33d59b1ed55a",
   "metadata": {},
   "source": [
    "* * *\n",
    "<h2> <i> Import .csv's with measured elemental abundances of USGS standards by Niton XL5 Plus pXRF (post CPU replacement). </h2>\n",
    "    \n",
    "    All data compiled from analytical sessions after CPU replacement was completed by Thermo in November, 2022. These standard compilations are demarcated by the postscript_NEW. \n",
    "    \n",
    "    Add all additional standard measurements from this instrument to these files, and follow extant file format for adding an additional standard type to the calibration framework.\n"
   ]
  },
  {
   "cell_type": "code",
   "execution_count": null,
   "id": "1aba0baf-a2d4-45be-989c-1bad062a2815",
   "metadata": {},
   "outputs": [],
   "source": [
    "MAG1=pd.read_csv('INPUT_CSV/Standard Data/MAG1_NEW.csv').fillna(0) #measurements\n",
    "SCO1=pd.read_csv('INPUT_CSV/Standard Data/SCo_1_NEW.csv') .fillna(0)\n",
    "SDC1=pd.read_csv('INPUT_CSV/Standard Data/SDC-1_NEW.csv').fillna(0)\n",
    "SDARM2=pd.read_csv('INPUT_CSV/Standard Data/SDAR_M2NEW.csv').fillna(0)\n",
    "SDARL2=pd.read_csv('INPUT_CSV/Standard Data/SDAR_L2NEW.csv').fillna(0)\n",
    "SiO2=pd.read_csv('INPUT_CSV/Standard Data/SIO2.csv').fillna(0)\n",
    "\n"
   ]
  },
  {
   "cell_type": "markdown",
   "id": "a6b2deed-b1c7-4eb0-b526-7dac9097380f",
   "metadata": {},
   "source": [
    "* * * \n",
    "<h2><i>Define list of elements to loop through."
   ]
  },
  {
   "cell_type": "code",
   "execution_count": null,
   "id": "a5eabfde-b147-4a31-9d06-eca7c5c4daa0",
   "metadata": {},
   "outputs": [],
   "source": [
    "listofelements = ['Ag','Al','As','Au','Ba','Bal','Bi','Ca','Cd','Cl','Co','Cr','Cu','Fe','Hf','Hg','K','Mg','Mn','Mo','Nb','Ni','P','Pb','Pd','Rb','Re','S','Sb','Se','Si','Sn','Sr','Ta','Th','Ti','U','V','W','Y','Zn','Zr']\n",
    "listofelementerrors = ['Ag 2-Sigma','Al 2-Sigma','As 2-Sigma','Au 2-Sigma','Ba 2-Sigma','Bal 2-Sigma','Bi 2-Sigma','Ca 2-Sigma','Cd 2-Sigma','Cl 2-Sigma','Co 2-Sigma','Cr 2-Sigma','Cu 2-Sigma','Fe 2-Sigma','Hf 2-Sigma','Hg 2-Sigma','K 2-Sigma','Mg 2-Sigma','Mn 2-Sigma','Mo 2-Sigma','Nb 2-Sigma','Ni 2-Sigma','P 2-Sigma','Pb 2-Sigma','Pd 2-Sigma','Rb 2-Sigma','Re 2-Sigma','S 2-Sigma','Sb 2-Sigma','Se 2-Sigma','Si 2-Sigma','Sn 2-Sigma','Sr 2-Sigma','Ta 2-Sigma','Th 2-Sigma','Ti 2-Sigma','U 2-Sigma','V 2-Sigma','W 2-Sigma','Y 2-Sigma','Zn 2-Sigma','Zr 2-Sigma']"
   ]
  },
  {
   "cell_type": "markdown",
   "id": "d6210dd2-50a3-47cf-a247-31988f76c9a1",
   "metadata": {},
   "source": [
    "* * * \n",
    "<b><i>For each element:</b> plot known abundance vs. measured abundance. Fit a line to data, calculate coefficient of determination (r<sup>2</sup>) for the model, and plot line. \n",
    "\n",
    "<b><i>For each elemental uncertainty:</b> calculate standard deviation of elemental abundance measurements for each standard. The standard deviation of the dispersion of elemental abundance measurements for each element of each standard is calculated. The standard deviations for all standards are averaged for each element, yielding a mean standard deviation of analytical dispersion calculated for each element.  Calculating the 2-standard-deviation dispersion for each element is a more realistic approximation of the analytical uncertainty of the pXRF than the device's internal modeled analytical uncertainty, and takes into account variability associated with external environmental conditions, matrix effects, etc. \n",
    "\n"
   ]
  },
  {
   "cell_type": "code",
   "execution_count": null,
   "id": "b5dd273b-c431-4bf9-9eec-e7e8d4f0a7b9",
   "metadata": {},
   "outputs": [],
   "source": [
    "## Loop through the elements of interest\n",
    "\n",
    "##make a dictionary to be filled during the loop \n",
    "elementstats = pd.DataFrame()\n",
    "\n",
    "for jj in range(0,len(listofelements)): #loop through each element\n",
    "    element = listofelements[jj]\n",
    "    elementerr = listofelementerrors[jj]\n",
    "    print('Working on '+element)\n",
    "\n",
    "    ##Measured Data\n",
    "    MAG1_measured = MAG1[element] #this is the element column of that measurement \n",
    "    SCO1_measured = SCO1[element]\n",
    "    SDC1_measured = SDC1[element]\n",
    "    SDARM2_measured = SDARM2[element]\n",
    "    SDARL2_measured = SDARL2[element]\n",
    "    SiO2_measured = SiO2[element] #NOTE: add additional standards here follwing this format, as well as in all additional lines that involve concatenation etc... Make sure to add the known elemental abundances of the standard to the USGS standards compiled file (USGS_STAND.csv)\n",
    "\n",
    "    ##Standard Data\n",
    "    MAG1_standards = [USGS.loc[0,element]]*len(MAG1_measured) #locate the row and column of the elemental abundance of each specific standard, and create an array of the same length as the measured standard array. \n",
    "    SCO1_standards = [USGS.loc[1,element]]*len(SCO1_measured)\n",
    "    SDC1_standards = [USGS.loc[2,element]]*len(SDC1_measured)\n",
    "    SDARM2_standards = [USGS.loc[4,element]]*len(SDARM2_measured)\n",
    "    SDARL2_standards = [USGS.loc[5,element]]*len(SDARL2_measured)\n",
    "    Si02_standards = [USGS.loc[3,element]]*len(SiO2_measured)\n",
    "\n",
    "    combined_measured=np.concatenate([MAG1_measured,SCO1_measured,SDC1_measured,SDARM2_measured,SDARL2_measured]) #unify into a single dataframe.\n",
    "    combined_standards=np.concatenate([MAG1_standards,SCO1_standards,SDC1_standards,SDARM2_standards,SDARL2_standards])\n",
    "\n",
    "    data1 = np.array([combined_measured]).reshape((-1, 1)) #reshape to work with LinearRegression() function.\n",
    "\n",
    "    data2 = np.array(combined_standards)\n",
    "\n",
    "    model=LinearRegression()  \n",
    "    model.fit(data1,data2) #implement linear regression model\n",
    "    r_sq = model.score(data1, data2) #define r2\n",
    "    \n",
    "    #isolate slope and intercept of linear regression\n",
    "    model_inter = model.intercept_\n",
    "    model_slope = model.coef_[0]\n",
    "    \n",
    "    #2Sigma uncertainty on standard measurements= 2 standard deviations of analytical dispersion.\n",
    "    sig_mag1 = 2*statistics.stdev(MAG1_measured) \n",
    "    sig_sco1 = 2*statistics.stdev(SCO1_measured) \n",
    "    sig_sdc1 = 2*statistics.stdev(SDC1_measured) \n",
    "    sig_sdarm = 2*statistics.stdev(SDARM2_measured) \n",
    "    sig_sdarl = 2*statistics.stdev(SDARL2_measured) \n",
    "    sig_si02 = 2*statistics.stdev(SiO2_measured) \n",
    "\n",
    "    ##find average 2sigma uncertainty across all standards for each element\n",
    "    comp_sig = [sig_mag1,sig_sco1,sig_sdc1,sig_sdarm,sig_sdarl]\n",
    "    \n",
    "    non_zero_val = [float(v) for v in comp_sig if v>0]\n",
    "    \n",
    "    sig_average = sum(non_zero_val)/(len(non_zero_val)+.00000000000000000000000000001) #add tiny amount to denominator to avoid divide-by-zero errors while looping\n",
    "    \n",
    "     \n",
    "    \n",
    "    #Create dataframe with all model equation components and analytical uncertainty approximations for each element.\n",
    "    data = {'coeff_of_determination':[r_sq], 'slope':[model_slope], 'intercept':[model_inter], '2sig_Avg':[sig_average], '2sig_mag1':[sig_mag1], '2sig_sdarm2':[sig_sdarm], '2sig_sdarl2':[sig_sdarl], }\n",
    "    df = pd.DataFrame(data, index = [element])\n",
    "    elementstats = pd.concat([elementstats,df])\n",
    "    \n",
    "    \n",
    "    \n",
    "    \n",
    "    \n",
    "    \n",
    "    \n",
    "    ###PLOT MEASUREMENTS, STANDARDS, and FITS FOR EACH ELEMENT * * * * * * * * * * * * * * * * * * * * * * * * * * * * * * * * * * * * * * * * * * * * * * * * * * * * * * * * * * * * * * * * * * * * * * * * * * * *\n",
    "    \n",
    "    plt.figure(figsize=(15,15))\n",
    "    \n",
    "    #PLOT MEASUREMENTS VS KNOWN STANDARD CONCENTRATIONS FOR EACH STANDARD\n",
    "   \n",
    "    #MAG1_\n",
    "    plt.errorbar(MAG1_measured,MAG1_standards, yerr=MAG1[elementerr],xerr=sig_average, fmt=\"o\", color='violet', label='MAG1')\n",
    "\n",
    "    #SCO1_\n",
    "    plt.errorbar(SCO1_measured,SCO1_standards, yerr=SCO1[elementerr], fmt=\"o\", color='mediumorchid', label='SCo-1')\n",
    "\n",
    "    #SDC1_\n",
    "    plt.errorbar(SDC1_measured,SDC1_standards, yerr=SDC1[elementerr], fmt=\"o\", color='darkorchid', label='SDC-1')\n",
    "\n",
    "    #SDARM2_\n",
    "    plt.errorbar(SDARM2_measured,SDARM2_standards, yerr=SDARM2[elementerr], fmt=\"o\", color='rebeccapurple', label='SDAR_M2')\n",
    "\n",
    "    #SDARL2_\n",
    "    plt.errorbar(SDARL2_measured,SDARL2_standards, yerr=SDARL2[elementerr], fmt=\"o\", color='darkslateblue', label='SDAR_L2')\n",
    "    \n",
    "    #SiO2_\n",
    "    plt.errorbar(SiO2_measured,Si02_standards, yerr=SiO2[elementerr], fmt=\"o\", color='maroon', label='Si02')\n",
    "   \n",
    "\n",
    "    #PLOT LINEAR REGRESSION FIT\n",
    "    \n",
    "    max_MAG1=np.max(MAG1_standards)#identify maximum values of each standard measurement\n",
    "    max_SCO1=np.max(SCO1_standards)\n",
    "    max_SDC1=np.max(SDC1_standards)\n",
    "    max_SDARM2=np.max(SDARM2_standards)\n",
    "    max_SDARL2=np.max(SDARL2_standards)\n",
    "    max_Si02=np.max(Si02_standards)\n",
    "    comb_max=[max_MAG1, max_SCO1,max_SDC1,max_SDARM2, max_SDARL2]\n",
    "    standard_max=np.max(comb_max)\n",
    "   \n",
    "    \n",
    "    pp=np.linspace(0,standard_max+(standard_max*.1)) #create an array that extends slightly longer than maximum of all standard max's\n",
    "    \n",
    "    #plot 1:1 line\n",
    "    plt.plot(pp,pp,'k--',label='1:1 line')\n",
    "    \n",
    "    #plot regression line\n",
    "    plt.plot(pp,((pp*model_slope)+model_inter),'r-',label='$\\mathregular{R^{2}}$ ='+str(r_sq)+'')\n",
    "\n",
    "    #plot formatting\n",
    "    plt.title(str(element)+' Standard Correlation, Mining Mode', fontsize=30)\n",
    "    plt.legend(fontsize=20)\n",
    "    plt.xlabel('Measured concentration (mg/kg)',fontsize=20)\n",
    "    plt.ylabel('Known concentration (mg/kg)', fontsize=20)\n",
    "   \n",
    "    #save each figure as a .pdf\n",
    "    plt.savefig('Figures/StandardCorr/'+element+'_correlation_plot.pdf')\n",
    "    plt.show()\n",
    "\n",
    "#save all stats for each element as a .csv\n",
    "final_stats = elementstats.T   \n",
    "final_stats.to_csv('OUTPUT_CSV/Standard_Correlation_Statistics/StandardCorrStatsNew.csv')\n"
   ]
  },
  {
   "cell_type": "markdown",
   "id": "641cd2d1-956d-416a-b6c9-16b0a7693d26",
   "metadata": {},
   "source": [
    "* * *\n",
    "\n",
    "<h2><i>OUTPUTS:</h2>\n",
    "\n",
    "Plots for each element, including a 1:1 line (black dashes), best fit line (red) and standard-measurement scatterplots for each standard are saved. \n",
    "\n",
    "All formula components for model linear fits, and calculated average 2-sd dispersions for each element, are compiled and exported in StandardCorrStatsNew.csv. This file is used in the ApplyXRFCorr.ipynb script to apply calibration corrections and additional analytical uncertainties to unknown measurements. "
   ]
  },
  {
   "cell_type": "code",
   "execution_count": null,
   "id": "c5b70067-6177-44ff-a6f3-235bbe3dbc7a",
   "metadata": {},
   "outputs": [],
   "source": [
    "print(final_stats)#outputs printed on StandardCorrStatsNew.csv"
   ]
  },
  {
   "cell_type": "code",
   "execution_count": null,
   "id": "d020e9ac-d0ea-4c32-a42e-022a1b6f8b7e",
   "metadata": {},
   "outputs": [],
   "source": []
  }
 ],
 "metadata": {
  "kernelspec": {
   "display_name": "Python 3",
   "language": "python",
   "name": "python3"
  },
  "language_info": {
   "codemirror_mode": {
    "name": "ipython",
    "version": 3
   },
   "file_extension": ".py",
   "mimetype": "text/x-python",
   "name": "python",
   "nbconvert_exporter": "python",
   "pygments_lexer": "ipython3",
   "version": "3.12.4"
  }
 },
 "nbformat": 4,
 "nbformat_minor": 5
}
